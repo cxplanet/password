{
 "cells": [
  {
   "cell_type": "markdown",
   "metadata": {},
   "source": [
    "# Password Test"
   ]
  },
  {
   "cell_type": "code",
   "execution_count": 10,
   "metadata": {
    "collapsed": false
   },
   "outputs": [
    {
     "name": "stdout",
     "output_type": "stream",
     "text": [
      "we found an ampersand\n"
     ]
    }
   ],
   "source": [
    "# our test password\n",
    "password = 'LiAyF&'\n",
    "# this is a comment, it does not get interpreted or computed\n",
    "# we will use this variable to keep track of whether we saw\n",
    "# the ampersand character in the password we are testing\n",
    "hasAmpersand = False\n",
    "# when we use a for loop, we are stepping through all the letters\n",
    "# in our test password. that is because python treats words like lists\n",
    "for character in password:\n",
    "    # we use the if statement to test if the current character\n",
    "    # is an ampersand. note that we use '==' for testing a value\n",
    "    if character == '&':  \n",
    "        # here, we use '=' to assign a value\n",
    "        hasAmpersand = True\n",
    "# if hasAmpersand == True:\n",
    "#     print('we found an ampersand')\n",
    "# if hasAmpersand == False:\n",
    "#     print('we did not find an ampersand')\n",
    "if hasAmpersand == True:\n",
    "    print('we found an ampersand')\n",
    "else:\n",
    "    print('we did not find an ampersand')"
   ]
  },
  {
   "cell_type": "code",
   "execution_count": null,
   "metadata": {
    "collapsed": true
   },
   "outputs": [],
   "source": []
  }
 ],
 "metadata": {
  "anaconda-cloud": {},
  "kernelspec": {
   "display_name": "Python [conda env:skimage]",
   "language": "python",
   "name": "conda-env-skimage-py"
  },
  "language_info": {
   "codemirror_mode": {
    "name": "ipython",
    "version": 3
   },
   "file_extension": ".py",
   "mimetype": "text/x-python",
   "name": "python",
   "nbconvert_exporter": "python",
   "pygments_lexer": "ipython3",
   "version": "3.4.5"
  }
 },
 "nbformat": 4,
 "nbformat_minor": 2
}
