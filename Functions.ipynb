{
 "cells": [
  {
   "cell_type": "markdown",
   "metadata": {},
   "source": [
    "## Functions\n",
    "Functions are used in python to organize your prgoram into reusable blocks. Functions are started by using the keyword 'def', followed by a function name, and a left and right parentheses containing other parameters if required, followed by a ':'. You then write the code that you want the function to do/perform/execute.\n",
    "\n",
    "Once you define a function, any code that you write after that can reuse the code in the function by referencing the function name (without the def). This is usually referred to as 'calling' a function\n",
    "\n",
    "### Built-in functions\n",
    "Python has its own set of functions that let you that you tell the program you want to do something. Examples of Python functions include 'type()', 'print()' and 'len()'"
   ]
  },
  {
   "cell_type": "code",
   "execution_count": 4,
   "metadata": {
    "collapsed": false
   },
   "outputs": [
    {
     "name": "stdout",
     "output_type": "stream",
     "text": [
      "hello\n"
     ]
    }
   ],
   "source": [
    "def hello():\n",
    "    print('hello')\n",
    "    \n",
    "hello()"
   ]
  },
  {
   "cell_type": "markdown",
   "metadata": {},
   "source": [
    "Functions can also take input from code that calls it. For example, let's say we want a function to say 'hello' and a person's name. We can modify the function to declare a variable inside the parantheses of the function, so that it can be used within the function."
   ]
  },
  {
   "cell_type": "code",
   "execution_count": 9,
   "metadata": {
    "collapsed": false
   },
   "outputs": [
    {
     "name": "stdout",
     "output_type": "stream",
     "text": [
      "hello Moo!\n"
     ]
    }
   ],
   "source": [
    "def hello(name):\n",
    "    print('hello ' + name + '!')\n",
    "    \n",
    "hello('Moo') # basically, we are saying the function variable called name = 'Moo'"
   ]
  },
  {
   "cell_type": "code",
   "execution_count": 10,
   "metadata": {
    "collapsed": true
   },
   "outputs": [],
   "source": [
    "def checkLength(password):\n",
    "    print(len(password))"
   ]
  },
  {
   "cell_type": "code",
   "execution_count": 11,
   "metadata": {
    "collapsed": false
   },
   "outputs": [
    {
     "name": "stdout",
     "output_type": "stream",
     "text": [
      "10\n"
     ]
    }
   ],
   "source": [
    "checkLength('MichaelMoo')"
   ]
  },
  {
   "cell_type": "code",
   "execution_count": 12,
   "metadata": {
    "collapsed": true
   },
   "outputs": [],
   "source": [
    "def checkLength(password):\n",
    "    if len(password) > 8:\n",
    "        print('bueno')\n",
    "    else:\n",
    "        print('muy mal')"
   ]
  },
  {
   "cell_type": "code",
   "execution_count": 14,
   "metadata": {
    "collapsed": false
   },
   "outputs": [
    {
     "name": "stdout",
     "output_type": "stream",
     "text": [
      "muy mal\n"
     ]
    }
   ],
   "source": [
    "checkLength('Moo')"
   ]
  },
  {
   "cell_type": "markdown",
   "metadata": {},
   "source": [
    "### Extra credit\n",
    "A function can return a value too. So you can take input, and determine a response for that input"
   ]
  },
  {
   "cell_type": "code",
   "execution_count": 18,
   "metadata": {
    "collapsed": true
   },
   "outputs": [],
   "source": [
    "def checkLength(password):\n",
    "    if len(password) > 8:\n",
    "        return True\n",
    "    else:\n",
    "        return False"
   ]
  },
  {
   "cell_type": "code",
   "execution_count": 20,
   "metadata": {
    "collapsed": false
   },
   "outputs": [
    {
     "name": "stdout",
     "output_type": "stream",
     "text": [
      "your password needs to be at least 8 characters\n"
     ]
    }
   ],
   "source": [
    "passwd = '1231234'\n",
    "\n",
    "if checkLength(passwd):\n",
    "    # do some other checking\n",
    "    print('more checking to come...')\n",
    "else:\n",
    "    print('your password needs to be at least 8 characters')"
   ]
  },
  {
   "cell_type": "code",
   "execution_count": null,
   "metadata": {
    "collapsed": true
   },
   "outputs": [],
   "source": [
    "passwd = 'foo123'\n"
   ]
  }
 ],
 "metadata": {
  "anaconda-cloud": {},
  "kernelspec": {
   "display_name": "Python [default]",
   "language": "python",
   "name": "python3"
  },
  "language_info": {
   "codemirror_mode": {
    "name": "ipython",
    "version": 3
   },
   "file_extension": ".py",
   "mimetype": "text/x-python",
   "name": "python",
   "nbconvert_exporter": "python",
   "pygments_lexer": "ipython3",
   "version": "3.5.2"
  }
 },
 "nbformat": 4,
 "nbformat_minor": 1
}
