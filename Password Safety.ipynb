{
 "cells": [
  {
   "cell_type": "markdown",
   "metadata": {},
   "source": [
    "# Password Safety"
   ]
  },
  {
   "cell_type": "markdown",
   "metadata": {},
   "source": [
    "### my research was on what makes a password safe or not\n",
    "Predictability and common sequences in a password can make that password not safe\n",
    "Predictabilityis how easy it is to guess what the persons password is. Predictability can \n",
    "be based off of what they know are common passwords or information about the person if they know anything.\n",
    "Personall information about the person often includes the date of their birthday (that can be the day and month, the year, or all three of them) or the dates of the birthdays of people close to them such as siblings, parnes, or best friends. Sequences are common words, phrases, or number patterns. The most common number patterns are 123, 123456, 1234, and 1234567890. "
   ]
  },
  {
   "cell_type": "code",
   "execution_count": null,
   "metadata": {
    "collapsed": true
   },
   "outputs": [],
   "source": []
  }
 ],
 "metadata": {
  "anaconda-cloud": {},
  "kernelspec": {
   "display_name": "Python [default]",
   "language": "python",
   "name": "python3"
  },
  "language_info": {
   "codemirror_mode": {
    "name": "ipython",
    "version": 3
   },
   "file_extension": ".py",
   "mimetype": "text/x-python",
   "name": "python",
   "nbconvert_exporter": "python",
   "pygments_lexer": "ipython3",
   "version": "3.5.2"
  }
 },
 "nbformat": 4,
 "nbformat_minor": 1
}
