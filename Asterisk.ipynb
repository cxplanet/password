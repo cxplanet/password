{
 "cells": [
  {
   "cell_type": "markdown",
   "metadata": {},
   "source": [
    "# Find an Asterisk"
   ]
  },
  {
   "cell_type": "code",
   "execution_count": 1,
   "metadata": {
    "collapsed": true
   },
   "outputs": [],
   "source": [
    "password = 'O%b&iW$an*'\n",
    "lulu = ['*', '&', '%', '$']\n",
    "hasAsterisk = False"
   ]
  },
  {
   "cell_type": "code",
   "execution_count": 2,
   "metadata": {
    "collapsed": false
   },
   "outputs": [
    {
     "name": "stdout",
     "output_type": "stream",
     "text": [
      "we found a %\n",
      "we found a &\n",
      "we found a $\n",
      "we found a *\n",
      "lulu is empty\n"
     ]
    }
   ],
   "source": [
    "# take each character in the password\n",
    "for character in password:\n",
    "    # if that character is one of the values in lulu\n",
    "    if character in lulu:\n",
    "        print('we found a {0}'.format(character))\n",
    "        lulu.remove(character)\n",
    "        if len(lulu) == 0:\n",
    "            print('lulu is empty')"
   ]
  },
  {
   "cell_type": "code",
   "execution_count": 3,
   "metadata": {
    "collapsed": false
   },
   "outputs": [
    {
     "name": "stdout",
     "output_type": "stream",
     "text": [
      "dad is annoying\n"
     ]
    }
   ],
   "source": [
    "if hasAsterisk == True:\n",
    "    print('zeke is fluffy')\n",
    "else:\n",
    "    print('dad is annoying')"
   ]
  },
  {
   "cell_type": "code",
   "execution_count": null,
   "metadata": {
    "collapsed": true
   },
   "outputs": [],
   "source": []
  }
 ],
 "metadata": {
  "anaconda-cloud": {},
  "kernelspec": {
   "display_name": "Python [conda env:skimage]",
   "language": "python",
   "name": "conda-env-skimage-py"
  },
  "language_info": {
   "codemirror_mode": {
    "name": "ipython",
    "version": 3
   },
   "file_extension": ".py",
   "mimetype": "text/x-python",
   "name": "python",
   "nbconvert_exporter": "python",
   "pygments_lexer": "ipython3",
   "version": "3.4.5"
  }
 },
 "nbformat": 4,
 "nbformat_minor": 2
}
