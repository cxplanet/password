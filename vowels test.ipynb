{
 "cells": [
  {
   "cell_type": "code",
   "execution_count": 1,
   "metadata": {
    "collapsed": false
   },
   "outputs": [
    {
     "name": "stdout",
     "output_type": "stream",
     "text": [
      "number of vowels in mysisterisreallyannoying is 8\n"
     ]
    }
   ],
   "source": [
    "password = 'mysisterisreallyannoying'\n",
    "vowels = ['a', 'e', 'i', 'o', 'u']\n",
    "num_vowels = 0\n",
    "# 'for letter' means lets aassign the variable 'letter' to do something.\n",
    "# in this case, 'letter' will be assigned to every character in the variable 'password'\n",
    "for letter in password:\n",
    "    if letter in vowels:\n",
    "        # print(letter)\n",
    "        num_vowels = num_vowels + 1 #for lval and rval, rval is always computed first\n",
    "print('number of vowels in {0} is {1}'.format(password, num_vowels))"
   ]
  },
  {
   "cell_type": "code",
   "execution_count": null,
   "metadata": {
    "collapsed": true
   },
   "outputs": [],
   "source": []
  }
 ],
 "metadata": {
  "kernelspec": {
   "display_name": "Python [default]",
   "language": "python",
   "name": "python3"
  },
  "language_info": {
   "codemirror_mode": {
    "name": "ipython",
    "version": 3
   },
   "file_extension": ".py",
   "mimetype": "text/x-python",
   "name": "python",
   "nbconvert_exporter": "python",
   "pygments_lexer": "ipython3",
   "version": "3.5.2"
  }
 },
 "nbformat": 4,
 "nbformat_minor": 1
}
