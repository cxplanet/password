{
 "cells": [
  {
   "cell_type": "markdown",
   "metadata": {},
   "source": [
    "# Objects\n",
    "An object is a collection of data and functions that operate together to perform work in your program\n",
    "\n",
    "### Creating an object\n",
    "Objects are defined by using the 'class' keyword followed by the class name. Classes are best thought of as a template that makes an object.  You create an object by assigning a variable to a class, which results in an 'object instance'. The syntax for doing that for a class named 'Foo' looks like this:\n",
    "\n",
    "'my_var = Foo()'\n",
    "\n",
    "Let's think about what a dog class might look like:"
   ]
  },
  {
   "cell_type": "code",
   "execution_count": 15,
   "metadata": {
    "collapsed": false
   },
   "outputs": [],
   "source": [
    "class Dog:\n",
    "    \n",
    "    # __init__ is a special function that is called when you create a new object\n",
    "    # that has data that needs to be se up, or 'initialized'\n",
    "    # At a minimum, it takes a variable called 'self', which is the 'instance' assigned\n",
    "    # to the variable when the object is created\n",
    "    def __init__(self, dogname): \n",
    "        self.color = 'black'\n",
    "        self.size = 'small'\n",
    "        self.breed = 'Golden Doodle'\n",
    "        self.name = dogname\n",
    "    \n",
    "    # and for every other function in a class, the first variable must be 'self'\n",
    "    def bark(self):\n",
    "        print ('bark bark')\n",
    "        "
   ]
  },
  {
   "cell_type": "markdown",
   "metadata": {},
   "source": [
    "### Calling functions on a object\n",
    "Once you create an object, you can use functions for calling 'behaviors' of the object. You do this by using the variable name of the object, followed by a '.', and then followed by the function name and paranthese, and whatever parameters the function takes."
   ]
  },
  {
   "cell_type": "code",
   "execution_count": 12,
   "metadata": {
    "collapsed": false
   },
   "outputs": [
    {
     "name": "stdout",
     "output_type": "stream",
     "text": [
      "bark bark\n"
     ]
    }
   ],
   "source": [
    "# creating so Dog objects\n",
    "lulu = Dog('Lulu')\n",
    "zeke = Dog('Zeke')\n",
    "# telling the dog object to bark\n",
    "zeke.bark()\n",
    "print(zeke.breed)"
   ]
  },
  {
   "cell_type": "code",
   "execution_count": 25,
   "metadata": {
    "collapsed": false
   },
   "outputs": [],
   "source": [
    "# create a class (object) that checks passwords\n",
    "class PasswordChecker:\n",
    "    \n",
    "    def password_length(self, password):\n",
    "        return len(password)\n",
    "    \n",
    "    def score_password_length(self, password):\n",
    "        if len(password) > 8:\n",
    "            return 5\n",
    "        else:\n",
    "            return 0\n",
    "    \n",
    "    def no_repeating_characters(self, password):\n",
    "        return 5"
   ]
  },
  {
   "cell_type": "code",
   "execution_count": 32,
   "metadata": {
    "collapsed": false
   },
   "outputs": [
    {
     "data": {
      "text/plain": [
       "5"
      ]
     },
     "execution_count": 32,
     "metadata": {},
     "output_type": "execute_result"
    }
   ],
   "source": [
    "test_passwd = 'Obiwan'\n",
    "\n",
    "score = 0\n",
    "\n",
    "checker = PasswordChecker()\n",
    "\n",
    "score = score + checker.score_password_length(test_passwd)\n",
    "score = score + checker.no_repeating_characters(test_passwd)\n",
    "score"
   ]
  },
  {
   "cell_type": "code",
   "execution_count": 5,
   "metadata": {
    "collapsed": false
   },
   "outputs": [
    {
     "name": "stdout",
     "output_type": "stream",
     "text": [
      "Golden Doodle\n"
     ]
    }
   ],
   "source": []
  },
  {
   "cell_type": "code",
   "execution_count": null,
   "metadata": {
    "collapsed": true
   },
   "outputs": [],
   "source": []
  },
  {
   "cell_type": "code",
   "execution_count": null,
   "metadata": {
    "collapsed": true
   },
   "outputs": [],
   "source": []
  },
  {
   "cell_type": "code",
   "execution_count": null,
   "metadata": {
    "collapsed": true
   },
   "outputs": [],
   "source": []
  },
  {
   "cell_type": "code",
   "execution_count": null,
   "metadata": {
    "collapsed": true
   },
   "outputs": [],
   "source": []
  }
 ],
 "metadata": {
  "anaconda-cloud": {},
  "kernelspec": {
   "display_name": "Python [default]",
   "language": "python",
   "name": "python3"
  },
  "language_info": {
   "codemirror_mode": {
    "name": "ipython",
    "version": 3
   },
   "file_extension": ".py",
   "mimetype": "text/x-python",
   "name": "python",
   "nbconvert_exporter": "python",
   "pygments_lexer": "ipython3",
   "version": "3.5.2"
  }
 },
 "nbformat": 4,
 "nbformat_minor": 1
}
