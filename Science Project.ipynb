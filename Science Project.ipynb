{
 "cells": [
  {
   "cell_type": "markdown",
   "metadata": {},
   "source": [
    "\n"
   ]
  },
  {
   "cell_type": "code",
   "execution_count": 3,
   "metadata": {
    "collapsed": false
   },
   "outputs": [
    {
     "name": "stdout",
     "output_type": "stream",
     "text": [
      "We read in 502 bad passwords to check against\n",
      "checking password\n",
      "this is an okay length\n",
      "this is a known bad password\n",
      "checking passwd7592\n",
      "this is an okay length\n",
      "this password is not known to be a bad password\n",
      "this password seems okay\n"
     ]
    }
   ],
   "source": [
    "from ipywidgets import widgets\n",
    "\n",
    "# first, we'll make up sme test passwords and put them in a list\n",
    "test_passwords = ['password', '1234', 'broncos', 'yoda', 'swimmer', 'batman', 'flash']\n",
    "# next, we'll create a list that will hold easily guessed passwords. We will\n",
    "# include the empty string as a first entry\n",
    "bad_passwords = ['']\n",
    "# for each line in a file we opened and read, do the following\n",
    "for line in open('500-worst-passwords.txt'):\n",
    "    # remove the character '\\n' if there and assign it to the variable line. \n",
    "    # note this only works because the python program always reads the right\n",
    "    # hand side of the equals sign before assigning it to the left\n",
    "    # btw, '\\n' is better known as a carriage return\n",
    "    line = line.strip('\\n')\n",
    "    # add our cleaned up line to the bad_passwords list\n",
    "    bad_passwords.append(line)\n",
    "\n",
    "print('We read in {0} bad passwords to check against'.format(len(bad_passwords)))\n",
    "\n",
    "input_box = widgets.Text()\n",
    "\n",
    "def has_repeating_numbers(password):\n",
    "    return True\n",
    "\n",
    "def has_repeating_letters(password):\n",
    "    return True\n",
    "\n",
    "def on_bad_password_list(password):\n",
    "    known_password = True\n",
    "    if password in bad_passwords:\n",
    "        print('this is a known bad password')\n",
    "    else:\n",
    "        known_password = False\n",
    "        print('this password is not known to be a bad password')\n",
    "    return known_password\n",
    "\n",
    "def good_passwd_length(password):\n",
    "    good_length = False\n",
    "    if len(password) < 8:\n",
    "        print('password is too short')\n",
    "    else:\n",
    "        good_length = True\n",
    "        print('this is an okay length')\n",
    "    return good_length\n",
    "\n",
    "# our main function called when we hit enter on the textbox\n",
    "def check_password(textbox):\n",
    "    print('checking {0}'.format(input_box.value))\n",
    "    if good_passwd_length(input_box.value) is False:\n",
    "        return # we stop at this point\n",
    "    elif on_bad_password_list(input_box.value) is True:\n",
    "        return\n",
    "    else:\n",
    "        print('this password seems okay')\n",
    "\n",
    "input_box.on_submit(check_password)\n",
    "input_box\n",
    "\n",
    "# for each item found in the test_password list do the following\n",
    "# for password in test_passwords:\n",
    "#     # if that item is in the bad_password list\n",
    "#     if password in bad_passwords:\n",
    "#         print('{0} is a bad password'.format(password))"
   ]
  },
  {
   "cell_type": "code",
   "execution_count": null,
   "metadata": {
    "collapsed": true
   },
   "outputs": [],
   "source": []
  }
 ],
 "metadata": {
  "anaconda-cloud": {},
  "kernelspec": {
   "display_name": "Python [default]",
   "language": "python",
   "name": "python3"
  },
  "language_info": {
   "codemirror_mode": {
    "name": "ipython",
    "version": 3
   },
   "file_extension": ".py",
   "mimetype": "text/x-python",
   "name": "python",
   "nbconvert_exporter": "python",
   "pygments_lexer": "ipython3",
   "version": "3.5.2"
  },
  "widgets": {
   "state": {
    "cf6bf846e0874c5ebe78fbc67f70d27c": {
     "views": [
      {
       "cell_index": 1
      }
     ]
    }
   },
   "version": "1.2.0"
  }
 },
 "nbformat": 4,
 "nbformat_minor": 1
}
