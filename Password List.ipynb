{
 "cells": [
  {
   "cell_type": "code",
   "execution_count": 9,
   "metadata": {
    "collapsed": false
   },
   "outputs": [
    {
     "name": "stdout",
     "output_type": "stream",
     "text": [
      "We read in 502 bad passwords\n",
      "password is a bad password\n",
      "1234 is a bad password\n",
      "broncos is a bad password\n",
      "batman is a bad password\n"
     ]
    }
   ],
   "source": [
    "test_passwords = ['password', '1234', 'broncos', 'yoda', 'swimmer', 'batman', 'flash']\n",
    "bad_passwords = ['']\n",
    "for line in open('500-worst-passwords.txt'):\n",
    "    line = line.strip('\\n')\n",
    "    bad_passwords.append(line)\n",
    "\n",
    "print('We read in {0} bad passwords'.format(len(bad_passwords)))\n",
    "\n",
    "for password in test_passwords:\n",
    "    if password in bad_passwords:\n",
    "        print('{0} is a bad password'.format(password))"
   ]
  },
  {
   "cell_type": "code",
   "execution_count": null,
   "metadata": {
    "collapsed": true
   },
   "outputs": [],
   "source": []
  }
 ],
 "metadata": {
  "anaconda-cloud": {},
  "kernelspec": {
   "display_name": "Python [default]",
   "language": "python",
   "name": "python3"
  },
  "language_info": {
   "codemirror_mode": {
    "name": "ipython",
    "version": 3
   },
   "file_extension": ".py",
   "mimetype": "text/x-python",
   "name": "python",
   "nbconvert_exporter": "python",
   "pygments_lexer": "ipython3",
   "version": "3.5.2"
  }
 },
 "nbformat": 4,
 "nbformat_minor": 1
}
