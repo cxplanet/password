{
 "cells": [
  {
   "cell_type": "markdown",
   "metadata": {},
   "source": [
    "# Python data types\n",
    "Python has 5 data types that are iterable, which is a fancy way of saying that you can go through the items in that data type one by one.\n",
    "\n",
    "## Strings\n",
    "Strings cab be looked at as a collection of characters. Python lets you treat a string like a list of characters, and go through each character one at a\n",
    "\n",
    "## Lists (Arrays)\n",
    "A list is something that holds lists of data (strings, objects, numbers, etc.). You create a list by using '[]', and the objects or values in the list are separated by ','\n",
    "\n",
    "You can use the list functions by using this kind of format: variable_name.function_name(). So for example, if you had a variable named 'var1', that pointed to a list object, you could reverse that list by typing var1.reverse()."
   ]
  },
  {
   "cell_type": "code",
   "execution_count": 6,
   "metadata": {
    "collapsed": false
   },
   "outputs": [
    {
     "data": {
      "text/plain": [
       "['lulu', 'zeke']"
      ]
     },
     "execution_count": 6,
     "metadata": {},
     "output_type": "execute_result"
    }
   ],
   "source": [
    "var1 = ['lulu', 'zeke']\n",
    "var1"
   ]
  },
  {
   "cell_type": "code",
   "execution_count": 2,
   "metadata": {
    "collapsed": false
   },
   "outputs": [
    {
     "name": "stdout",
     "output_type": "stream",
     "text": [
      "3\n"
     ]
    }
   ],
   "source": [
    "bar = ['yoda', 'anakin', 'vader']\n",
    "print(len(bar))"
   ]
  },
  {
   "cell_type": "markdown",
   "metadata": {},
   "source": [
    "You can add lists together by using the '+' operator"
   ]
  },
  {
   "cell_type": "code",
   "execution_count": 3,
   "metadata": {
    "collapsed": false
   },
   "outputs": [
    {
     "data": {
      "text/plain": [
       "['lulu', 'zeke', 'yoda', 'anakin', 'vader']"
      ]
     },
     "execution_count": 3,
     "metadata": {},
     "output_type": "execute_result"
    }
   ],
   "source": [
    "var_foo = [] # create a new empty list\n",
    "var2 = var1 + bar\n",
    "var2"
   ]
  },
  {
   "cell_type": "code",
   "execution_count": 4,
   "metadata": {
    "collapsed": false
   },
   "outputs": [],
   "source": [
    "# var1 + 'yoda' #but can you add a string to a list with + ?"
   ]
  },
  {
   "cell_type": "markdown",
   "metadata": {},
   "source": [
    "You can, however, add a string to a list by using the append function"
   ]
  },
  {
   "cell_type": "code",
   "execution_count": 5,
   "metadata": {
    "collapsed": false
   },
   "outputs": [
    {
     "data": {
      "text/plain": [
       "['lulu', 'zeke', 'yoda', 'anakin', 'vader', 'yoda']"
      ]
     },
     "execution_count": 5,
     "metadata": {},
     "output_type": "execute_result"
    }
   ],
   "source": [
    "var2.append('yoda')\n",
    "var2"
   ]
  },
  {
   "cell_type": "code",
   "execution_count": 6,
   "metadata": {
    "collapsed": false
   },
   "outputs": [],
   "source": [
    "#var2.reverse()\n",
    "#var2"
   ]
  },
  {
   "cell_type": "code",
   "execution_count": 7,
   "metadata": {
    "collapsed": false
   },
   "outputs": [
    {
     "data": {
      "text/plain": [
       "['lulu', 'zeke', 'anakin', 'vader', 'yoda']"
      ]
     },
     "execution_count": 7,
     "metadata": {},
     "output_type": "execute_result"
    }
   ],
   "source": [
    "var2.remove('yoda')\n",
    "var2"
   ]
  },
  {
   "cell_type": "markdown",
   "metadata": {},
   "source": [
    "### List indexes\n",
    "A list keeps track of the items in it by assigning a number called an 'index' to the items in the list, starting at 0 (assigned to the first item put in the list). So for example, it you wanted to access the third item in a list, pointed to by a variable called 'var2', you use the variable name, followed by '[]' (square brackets), and the index number you want in between the brackets"
   ]
  },
  {
   "cell_type": "code",
   "execution_count": 8,
   "metadata": {
    "collapsed": false
   },
   "outputs": [
    {
     "data": {
      "text/plain": [
       "'vader'"
      ]
     },
     "execution_count": 8,
     "metadata": {},
     "output_type": "execute_result"
    }
   ],
   "source": [
    "var2[3]"
   ]
  },
  {
   "cell_type": "markdown",
   "metadata": {},
   "source": [
    "You can also specify a range of items in a list by typing the start index and end index, separated by a ':' (colon). Its important to note that the end index means everything in the list up to the end index, not including the end index.\n"
   ]
  },
  {
   "cell_type": "markdown",
   "metadata": {},
   "source": []
  },
  {
   "cell_type": "code",
   "execution_count": 9,
   "metadata": {
    "collapsed": false
   },
   "outputs": [
    {
     "data": {
      "text/plain": [
       "['zeke', 'anakin', 'vader', 'yoda']"
      ]
     },
     "execution_count": 9,
     "metadata": {},
     "output_type": "execute_result"
    }
   ],
   "source": [
    "end_of_list = len(var2)\n",
    "var2[1:end_of_list]"
   ]
  },
  {
   "cell_type": "code",
   "execution_count": 15,
   "metadata": {
    "collapsed": false
   },
   "outputs": [
    {
     "data": {
      "text/plain": [
       "['anakin', 'vader']"
      ]
     },
     "execution_count": 15,
     "metadata": {},
     "output_type": "execute_result"
    }
   ],
   "source": [
    "var2[2:4]"
   ]
  },
  {
   "cell_type": "code",
   "execution_count": 11,
   "metadata": {
    "collapsed": false
   },
   "outputs": [
    {
     "data": {
      "text/plain": [
       "['vader', 'yoda']"
      ]
     },
     "execution_count": 11,
     "metadata": {},
     "output_type": "execute_result"
    }
   ],
   "source": [
    "var2[(len(var2)-2):(len(var2))]"
   ]
  },
  {
   "cell_type": "code",
   "execution_count": 16,
   "metadata": {
    "collapsed": false
   },
   "outputs": [
    {
     "data": {
      "text/plain": [
       "['zeke', 'anakin']"
      ]
     },
     "execution_count": 16,
     "metadata": {},
     "output_type": "execute_result"
    }
   ],
   "source": [
    "var2[1:-2]"
   ]
  },
  {
   "cell_type": "code",
   "execution_count": 3,
   "metadata": {
    "collapsed": false
   },
   "outputs": [
    {
     "name": "stdout",
     "output_type": "stream",
     "text": [
      "D\n",
      "V\n",
      "Has an uppercase letter\n"
     ]
    }
   ],
   "source": [
    "# And surprise! Python strings are actually lists of characters!\n",
    "sith = 'Darth Vader'\n",
    "for letter in sith:\n",
    "    if letter.isupper():\n",
    "        print(letter)\n",
    "    \n",
    "if any(letter.isupper() for letter in sith):\n",
    "    print('Has an uppercase letter')"
   ]
  },
  {
   "cell_type": "markdown",
   "metadata": {
    "collapsed": true
   },
   "source": [
    "## Dictionaries"
   ]
  },
  {
   "cell_type": "markdown",
   "metadata": {},
   "source": [
    "A dictionary is a special kind of list (sort of) that uses keys and values to store information. You create dictionaries by using brace syntax, ie '{}', which holds pairs of keys and values, where the key and the value is searated by a colon ':'"
   ]
  },
  {
   "cell_type": "code",
   "execution_count": 2,
   "metadata": {
    "collapsed": false
   },
   "outputs": [],
   "source": [
    "var2 = {'dog': 'Lassie'} # the key is 'dog', the value is a string, 'Lassie'\n",
    "var3 = {'devil': 'Zeke', 'saint': 'Lulu'} # you can have many keys in a dictionary\n",
    "var3['devil'] # 'Zeke'\n",
    "pets = {'dogs': ['lulu', 'zeke'], 'birds': ['tweety', 'singsing'], 'number' : 7} # your values can be any valid python type"
   ]
  },
  {
   "cell_type": "code",
   "execution_count": 5,
   "metadata": {
    "collapsed": false
   },
   "outputs": [
    {
     "data": {
      "text/plain": [
       "['password', 'betty', 'porn']"
      ]
     },
     "execution_count": 5,
     "metadata": {},
     "output_type": "execute_result"
    }
   ],
   "source": [
    "passwd_check = {'numbers': ['123', '1234', '12345', '2345', '2345'], 'words': ['password', 'betty', 'porn']}\n",
    "passwd_check['words']\n"
   ]
  },
  {
   "cell_type": "markdown",
   "metadata": {
    "collapsed": true
   },
   "source": [
    "## Sets\n",
    "Seta are like lists, but they only contain unique items, so if you had a list that looked like this:\n",
    "\n",
    "['dog', 'cat', 'camel', 'dog']\n",
    "\n",
    "the set would be:\n",
    "('dog', 'cat', 'camel')\n",
    "    "
   ]
  },
  {
   "cell_type": "markdown",
   "metadata": {},
   "source": [
    "## Tuples\n",
    "A tuple is a list, but once you make one, you can't change it, so no append(), insert(), delete()"
   ]
  },
  {
   "cell_type": "code",
   "execution_count": null,
   "metadata": {
    "collapsed": true
   },
   "outputs": [],
   "source": []
  }
 ],
 "metadata": {
  "anaconda-cloud": {},
  "kernelspec": {
   "display_name": "Python [default]",
   "language": "python",
   "name": "python3"
  },
  "language_info": {
   "codemirror_mode": {
    "name": "ipython",
    "version": 3
   },
   "file_extension": ".py",
   "mimetype": "text/x-python",
   "name": "python",
   "nbconvert_exporter": "python",
   "pygments_lexer": "ipython3",
   "version": "3.5.2"
  }
 },
 "nbformat": 4,
 "nbformat_minor": 1
}
