{
 "cells": [
  {
   "cell_type": "markdown",
   "metadata": {},
   "source": [
    "### modulus \n",
    "A modulus operation finds the remainder after division of one number by another. So for example 2 modulus 2 is 0. 7 modulus 2 is 1. In python the modulus operator is '%', followed by the number you want to divide, ie 2%2 and 7%2"
   ]
  },
  {
   "cell_type": "code",
   "execution_count": 9,
   "metadata": {
    "collapsed": false
   },
   "outputs": [
    {
     "name": "stdout",
     "output_type": "stream",
     "text": [
      "1\n",
      "ha\n",
      " ha\n",
      "3\n",
      "ha\n",
      " ha\n",
      "5\n",
      "ha\n",
      " ha\n",
      "7\n",
      "ha\n",
      " ha\n",
      "9\n",
      "ha\n",
      " ha\n",
      "55\n"
     ]
    }
   ],
   "source": [
    "total = 0\n",
    "bar = [1, 2, 3, 4, 5 ,6 ,7, 8, 9, 10]\n",
    "for wizz in bar:  #for each value, do some work in a loop. The work begins after the ':'\n",
    "    # the work is indented, this is important in python, because\n",
    "    # every line that is indented the same amount gets run together\n",
    "    total = wizz + total\n",
    "    # you can use the modulus operator to see if a number is even or odd\n",
    "    if wizz%2 is not 0: \n",
    "        print(wizz)\n",
    "print(total)\n"
   ]
  },
  {
   "cell_type": "markdown",
   "metadata": {},
   "source": []
  }
 ],
 "metadata": {
  "kernelspec": {
   "display_name": "Python [default]",
   "language": "python",
   "name": "python3"
  },
  "language_info": {
   "codemirror_mode": {
    "name": "ipython",
    "version": 3
   },
   "file_extension": ".py",
   "mimetype": "text/x-python",
   "name": "python",
   "nbconvert_exporter": "python",
   "pygments_lexer": "ipython3",
   "version": "3.5.2"
  }
 },
 "nbformat": 4,
 "nbformat_minor": 1
}
